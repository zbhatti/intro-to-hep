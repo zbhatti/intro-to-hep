{
 "cells": [
  {
   "cell_type": "markdown",
   "metadata": {},
   "source": [
    "# Higgs To 4 Leptons Analysis with Systematic Uncertainties Using uproot, pandas and pyhf"
   ]
  },
  {
   "cell_type": "markdown",
   "metadata": {},
   "source": [
    "## Imports and Variable Initialization\n",
    "\n",
    "This is where we state the location of our .root files. To reduce the memory usage, we select which columns of the .root files will be used when building our dataframes."
   ]
  },
  {
   "cell_type": "code",
   "execution_count": 1,
   "metadata": {},
   "outputs": [
    {
     "name": "stdout",
     "output_type": "stream",
     "text": [
      "2020-10-12 06:59:20.339313\n",
      "{'data': [['Data', 'data_A', 1, 1],\n",
      "          ['Data', 'data_B', 1, 1],\n",
      "          ['Data', 'data_C', 1, 1],\n",
      "          ['Data', 'data_D', 1, 1]],\n",
      " 'higgs': [['MC', 'mc_345060.ggH125_ZZ4lep', 0.0060239, 27881776.6536],\n",
      "           ['MC', 'mc_344235.VBFH125_ZZ4lep', 0.0004633012, 3680490.83243]],\n",
      " 'other': [['MC', 'mc_361106.Zee', 1950.5295, 150277594200],\n",
      "           ['MC', 'mc_361107.Zmumu', 1950.6321, 147334691090]],\n",
      " 'zz': [['MC', 'mc_363490.llll', 1.2578, 7538705.8077]]}\n"
     ]
    }
   ],
   "source": [
    "# original: https://root.cern.ch/doc/v622/df106__HiggsToFourLeptons_8py.html\n",
    "from collections import Counter\n",
    "\n",
    "import os\n",
    "import math\n",
    "import json\n",
    "import glob\n",
    "\n",
    "from pprint import pprint as pp\n",
    "\n",
    "from datetime import datetime\n",
    "t1 = datetime.now()\n",
    "print(t1)\n",
    "\n",
    "import numpy as np\n",
    "import pandas as pd\n",
    "import matplotlib.pyplot as plt\n",
    "%matplotlib inline\n",
    "\n",
    "import uproot\n",
    "import mplhep\n",
    "from skhep.math.vectors import LorentzVector\n",
    "\n",
    "plt.style.use(mplhep.style.ATLAS)\n",
    "\n",
    "path = \"root://eospublic.cern.ch//eos/opendata/atlas/OutreachDatasets/2020-01-22\"\n",
    "path = \"/home/zbhatti/codebase/intro-to-hep/OutreachDatasets/2020-01-22\"\n",
    "files = json.load(open(os.path.join(os.environ[\"ROOTSYS\"], \"tutorials/dataframe\", \"df106_HiggsToFourLeptons.json\")))\n",
    "pp(files)\n",
    "use_cached = True\n",
    "lumi = 10064.0\n",
    "\n",
    "read_columns = ['trigE', 'trigM', 'lep_eta', 'lep_pt', 'lep_ptcone30', 'lep_etcone20', \n",
    "                'lep_type', 'lep_charge', 'lep_phi', 'lep_E', 'lep_trackd0pvunbiased', \n",
    "                'lep_tracksigd0pvunbiased', 'lep_z0', 'mcWeight', 'scaleFactor_ELE', \n",
    "                'scaleFactor_MUON', 'scaleFactor_LepTRIGGER', 'scaleFactor_PILEUP',\n",
    "               ]\n",
    "\n",
    "dataframes_pickle_filename = 'higgs_4l_dataframes-{}-.pkl'\n",
    "cut_counts_pickle_filename = 'higgs_4l_cut_counts-{}-.pkl'\n",
    "\n",
    "processes = files.keys()\n",
    "dataframes = {}\n",
    "xsecs = {}\n",
    "sumws = {}\n",
    "samples = []\n",
    "cut_counts = {}"
   ]
  },
  {
   "cell_type": "markdown",
   "metadata": {},
   "source": [
    "## Load .root Files and Apply Cuts\n",
    "\n",
    "Here we apply cuts, reducing the total number of events we eventually bin into histograms. Using existing or defining new columns helps us make the right choice of filters to apply."
   ]
  },
  {
   "cell_type": "code",
   "execution_count": 2,
   "metadata": {},
   "outputs": [],
   "source": [
    "def cut_trigE_trigM(trigE, trigM):\n",
    "    return np.logical_not(np.logical_or(trigE, trigM))\n",
    "\n",
    "# https://github.com/scikit-hep/scikit-hep/blob/master/skhep/math/vectors.py#L700\n",
    "def good_electrons_and_muons(pdg_id, pt, eta, phi, e, trackd0pv, tracksigd0pv, z0):\n",
    "    for i in range(0, len(pdg_id)):\n",
    "        p = LorentzVector()\n",
    "        p.setptetaphie(pt[i] / 1000.0, eta[i], phi[i], e[i] / 1000.0)\n",
    "        if pdg_id[i] == 11:\n",
    "            if (pt[i] < 7000 or abs(eta[i]) > 2.47 or abs(trackd0pv[i] / tracksigd0pv[i]) > 5 or abs(z0[i] * math.sin(p.theta())) > 0.5):\n",
    "                return False\n",
    "        else:\n",
    "            if (abs(trackd0pv[i] / tracksigd0pv[i]) > 5 or abs(z0[i] * math.sin(p.theta())) > 0.5):\n",
    "                return False\n",
    "    return True\n",
    "\n",
    "# https://stackoverflow.com/questions/40045632/adding-a-column-in-pandas-df-using-a-function\n",
    "def good_lep(lep_eta, lep_pt, lep_ptcone30, lep_etcone20):\n",
    "    a = np.logical_and(abs(lep_eta) < 2.5, lep_pt > 5000)\n",
    "    b = np.logical_and(lep_ptcone30 / lep_pt < 0.3, lep_etcone20 / lep_pt < 0.3)\n",
    "    return np.logical_and(a, b)\n",
    "\n",
    "def invariant_mass(pt, eta, phi, E):\n",
    "    leptons = []\n",
    "    for i in range(0, 4):\n",
    "        p = LorentzVector()\n",
    "        p.setptetaphie(pt[i], eta[i], phi[i], E[i])\n",
    "        leptons.append(p)\n",
    "    \n",
    "    return (leptons[0] + leptons[1] + leptons[2] + leptons[3]).m / 1000.0;\n",
    "\n",
    "def build_dataframe(tree, xsecs_sample, sumws_sample, data_or_mc):\n",
    "    dataframes = None\n",
    "    cut_counts = np.array([0, 0, 0, 0, 0, 0, 0])\n",
    "    \n",
    "    for df in tree.iterate(read_columns, outputtype=pd.DataFrame):\n",
    "            print(df.shape)\n",
    "            sample_batch_counts = [df.shape[0]]\n",
    "            \n",
    "            # Filter 1\n",
    "            df = df[df.trigE | df.trigM]\n",
    "            sample_batch_counts.append(df.shape[0])\n",
    "\n",
    "            df['good_lep'] = df.apply(lambda x: good_lep(x.lep_eta, x.lep_pt, x.lep_ptcone30, x.lep_etcone20), axis=1)\n",
    "\n",
    "            # Filter 2\n",
    "            df = df[df.apply(lambda x: x.good_lep.sum() == 4, axis=1)]\n",
    "            sample_batch_counts.append(df.shape[0])\n",
    "            \n",
    "            # Filter 3\n",
    "            df = df[df.apply(lambda x: x.lep_charge[x.good_lep].sum() == 0, axis=1)]\n",
    "            sample_batch_counts.append(df.shape[0])\n",
    "\n",
    "            df['goodlep_sumtypes'] = df.apply(lambda x: x.lep_type[x.good_lep].sum(), axis=1)\n",
    "            \n",
    "            # Filter 4\n",
    "            df = df[(df.goodlep_sumtypes == 44) | (df.goodlep_sumtypes == 52) | (df.goodlep_sumtypes == 48)]\n",
    "            sample_batch_counts.append(df.shape[0])\n",
    "            \n",
    "            # Filter 5\n",
    "            df = df[df.apply(lambda x: good_electrons_and_muons(x.lep_type[x.good_lep], \n",
    "                                                                x.lep_pt[x.good_lep], \n",
    "                                                                x.lep_eta[x.good_lep], \n",
    "                                                                x.lep_phi[x.good_lep], \n",
    "                                                                x.lep_E[x.good_lep], \n",
    "                                                                x.lep_trackd0pvunbiased[x.good_lep], \n",
    "                                                                x.lep_tracksigd0pvunbiased[x.good_lep], \n",
    "                                                                x.lep_z0[x.good_lep]), \n",
    "                             axis=1)]\n",
    "            sample_batch_counts.append(df.shape[0])\n",
    "            \n",
    "            df['goodlep_pt'] = df.apply(lambda x: x.lep_pt[x.good_lep], axis=1)\n",
    "            df['goodlep_eta'] = df.apply(lambda x: x.lep_eta[x.good_lep], axis=1)\n",
    "            df['goodlep_phi'] = df.apply(lambda x: x.lep_phi[x.good_lep], axis=1)\n",
    "            df['goodlep_E'] = df.apply(lambda x: x.lep_E[x.good_lep], axis=1)\n",
    "            \n",
    "            # Filter 6\n",
    "            lep_pt_threshold = 8000 or 10000 or 12000\n",
    "            df = df[df.apply(lambda x: x.goodlep_pt[0] > 25000 and \n",
    "                                       x.goodlep_pt[1] > 15000 and \n",
    "                                       x.goodlep_pt[2] > 10000, \n",
    "                             axis=1)]\n",
    "            sample_batch_counts.append(df.shape[0])\n",
    "            df['m4l'] = df.apply(lambda x: invariant_mass(x.goodlep_pt, \n",
    "                                                          x.goodlep_eta, \n",
    "                                                          x.goodlep_phi, \n",
    "                                                          x.goodlep_E), \n",
    "                                 axis=1)\n",
    "            \n",
    "            if \"data\" in data_or_mc:\n",
    "                df['weight'] = df.apply(lambda x: 1.0, axis=1)\n",
    "            elif \"mc\" in data_or_mc:\n",
    "                df['weight'] = df.apply(lambda x: x.scaleFactor_ELE * \n",
    "                                                  x.scaleFactor_MUON * \n",
    "                                                  x.scaleFactor_LepTRIGGER * \n",
    "                                                  x.scaleFactor_PILEUP * \n",
    "                                                  x.mcWeight * \n",
    "                                                  (xsecs_sample / sumws_sample) * lumi, \n",
    "                                        axis=1)\n",
    "            \n",
    "            # free up memory\n",
    "            drop_columns = list(set(df.columns) - set(['m4l', 'weight']))\n",
    "            df.drop(drop_columns, axis=1, inplace=True)\n",
    "            \n",
    "            print (df.shape)\n",
    "            cut_counts = np.array(sample_batch_counts) + cut_counts\n",
    "            \n",
    "            if dataframes is None: \n",
    "                dataframes = df\n",
    "                \n",
    "            else:\n",
    "                dataframes = dataframes.append(df) \n",
    "        \n",
    "    return dataframes, cut_counts"
   ]
  },
  {
   "cell_type": "code",
   "execution_count": 3,
   "metadata": {},
   "outputs": [
    {
     "name": "stdout",
     "output_type": "stream",
     "text": [
      "data_A /home/zbhatti/codebase/intro-to-hep/OutreachDatasets/2020-01-22/4lep/Data/data_A.4lep.root\n",
      "data_B /home/zbhatti/codebase/intro-to-hep/OutreachDatasets/2020-01-22/4lep/Data/data_B.4lep.root\n",
      "data_C /home/zbhatti/codebase/intro-to-hep/OutreachDatasets/2020-01-22/4lep/Data/data_C.4lep.root\n",
      "data_D /home/zbhatti/codebase/intro-to-hep/OutreachDatasets/2020-01-22/4lep/Data/data_D.4lep.root\n",
      "mc_345060.ggH125_ZZ4lep /home/zbhatti/codebase/intro-to-hep/OutreachDatasets/2020-01-22/4lep/MC/mc_345060.ggH125_ZZ4lep.4lep.root\n",
      "mc_344235.VBFH125_ZZ4lep /home/zbhatti/codebase/intro-to-hep/OutreachDatasets/2020-01-22/4lep/MC/mc_344235.VBFH125_ZZ4lep.4lep.root\n",
      "mc_363490.llll /home/zbhatti/codebase/intro-to-hep/OutreachDatasets/2020-01-22/4lep/MC/mc_363490.llll.4lep.root\n",
      "mc_361106.Zee /home/zbhatti/codebase/intro-to-hep/OutreachDatasets/2020-01-22/4lep/MC/mc_361106.Zee.4lep.root\n",
      "mc_361107.Zmumu /home/zbhatti/codebase/intro-to-hep/OutreachDatasets/2020-01-22/4lep/MC/mc_361107.Zmumu.4lep.root\n"
     ]
    }
   ],
   "source": [
    "for p in processes:\n",
    "    for d in files[p]:\n",
    "        # Construct the dataframes\n",
    "        folder = d[0] # Folder name\n",
    "        sample = d[1] # Sample name\n",
    "        xsecs[sample] = d[2] # Cross-section\n",
    "        sumws[sample] = d[3] # Sum of weights\n",
    "        samples.append(sample)\n",
    "        filepath = \"{}/4lep/{}/{}.4lep.root\".format(path, folder, sample)\n",
    "        print(sample, filepath)\n",
    "        uproot_file = uproot.open(filepath)\n",
    "        tree = uproot_file['mini']\n",
    "        data_or_mc = \"data\" if \"data\" in sample.lower() else \"mc\"\n",
    "        \n",
    "        if not use_cached:\n",
    "            dataframes[sample], cut_counts[sample] = build_dataframe(tree, xsecs[sample], sumws[sample], data_or_mc)        \n",
    "            dataframes[sample].to_pickle(dataframes_pickle_filename.format(sample))\n",
    "            np.save(cut_counts_pickle_filename.format(sample), cut_counts[sample])\n"
   ]
  },
  {
   "cell_type": "markdown",
   "metadata": {},
   "source": [
    "## Load a Previous Run of the Cuts\n",
    "\n",
    "Fortunately, the work done in the previous steps are a checkpoint. We can pick up our analysis here if we do not need to update the cuts"
   ]
  },
  {
   "cell_type": "code",
   "execution_count": 6,
   "metadata": {},
   "outputs": [
    {
     "name": "stdout",
     "output_type": "stream",
     "text": [
      "['higgs_4l_dataframes-mc_345060.ggH125_ZZ4lep-.pkl', 'higgs_4l_dataframes-data_B-.pkl', 'higgs_4l_dataframes-data_A-.pkl', 'higgs_4l_dataframes-mc_344235.VBFH125_ZZ4lep-.pkl', 'higgs_4l_dataframes-mc_361107.Zmumu-.pkl', 'higgs_4l_dataframes-mc_361106.Zee-.pkl', 'higgs_4l_dataframes-mc_363490.llll-.pkl', 'higgs_4l_dataframes-data_C-.pkl', 'higgs_4l_dataframes-data_D-.pkl']\n",
      "loading sample mc_345060.ggH125_ZZ4lep\n",
      "loading sample data_B\n",
      "loading sample data_A\n",
      "loading sample mc_344235.VBFH125_ZZ4lep\n",
      "loading sample mc_361107.Zmumu\n",
      "loading sample mc_361106.Zee\n",
      "loading sample mc_363490.llll\n",
      "loading sample data_C\n",
      "loading sample data_D\n",
      "Final Shapes for Samples:\n",
      "{}\n"
     ]
    }
   ],
   "source": [
    "pickle_filenames = glob.glob(dataframes_pickle_filename.format('*'))\n",
    "print(pickle_filenames)\n",
    "if use_cached:\n",
    "    for filename in pickle_filenames:\n",
    "        sample = filename.split('-')[1]\n",
    "        print('loading sample {}'.format(sample))\n",
    "        dataframes[sample] = pd.read_pickle(filename)\n",
    "#         cut_counts[sample] = np.load(cut_counts_pickle_filename.format(sample))\n",
    "        samples.append(sample)\n",
    "\n",
    "print('Final Shapes for Samples:')\n",
    "pp(cut_counts)"
   ]
  },
  {
   "cell_type": "markdown",
   "metadata": {},
   "source": [
    "## Efficiency of the Cuts\n",
    "\n",
    "Here we see how the cuts reduce background events while not excluding potential signal events"
   ]
  },
  {
   "cell_type": "code",
   "execution_count": 7,
   "metadata": {},
   "outputs": [
    {
     "ename": "KeyError",
     "evalue": "'mc_345060.ggH125_ZZ4lep'",
     "output_type": "error",
     "traceback": [
      "\u001b[0;31m---------------------------------------------------------------------------\u001b[0m",
      "\u001b[0;31mKeyError\u001b[0m                                  Traceback (most recent call last)",
      "\u001b[0;32m<ipython-input-7-163f341a2929>\u001b[0m in \u001b[0;36m<module>\u001b[0;34m\u001b[0m\n\u001b[1;32m      2\u001b[0m \u001b[0;34m\u001b[0m\u001b[0m\n\u001b[1;32m      3\u001b[0m \u001b[0;31m# Merge Signal and BG counts\u001b[0m\u001b[0;34m\u001b[0m\u001b[0;34m\u001b[0m\u001b[0;34m\u001b[0m\u001b[0m\n\u001b[0;32m----> 4\u001b[0;31m \u001b[0mcut_efficiency\u001b[0m\u001b[0;34m[\u001b[0m\u001b[0;34m'Signal N'\u001b[0m\u001b[0;34m]\u001b[0m \u001b[0;34m=\u001b[0m \u001b[0mcut_counts\u001b[0m\u001b[0;34m[\u001b[0m\u001b[0;34m'mc_345060.ggH125_ZZ4lep'\u001b[0m\u001b[0;34m]\u001b[0m \u001b[0;34m+\u001b[0m \u001b[0mcut_counts\u001b[0m\u001b[0;34m[\u001b[0m\u001b[0;34m'mc_344235.VBFH125_ZZ4lep'\u001b[0m\u001b[0;34m]\u001b[0m\u001b[0;34m\u001b[0m\u001b[0;34m\u001b[0m\u001b[0m\n\u001b[0m\u001b[1;32m      5\u001b[0m \u001b[0mcut_efficiency\u001b[0m\u001b[0;34m[\u001b[0m\u001b[0;34m'Background N'\u001b[0m\u001b[0;34m]\u001b[0m \u001b[0;34m=\u001b[0m \u001b[0mcut_counts\u001b[0m\u001b[0;34m[\u001b[0m\u001b[0;34m'mc_361106.Zee'\u001b[0m\u001b[0;34m]\u001b[0m \u001b[0;34m+\u001b[0m \u001b[0mcut_counts\u001b[0m\u001b[0;34m[\u001b[0m\u001b[0;34m'mc_361107.Zmumu'\u001b[0m\u001b[0;34m]\u001b[0m \u001b[0;34m+\u001b[0m \u001b[0mcut_counts\u001b[0m\u001b[0;34m[\u001b[0m\u001b[0;34m'mc_363490.llll'\u001b[0m\u001b[0;34m]\u001b[0m\u001b[0;34m\u001b[0m\u001b[0;34m\u001b[0m\u001b[0m\n\u001b[1;32m      6\u001b[0m \u001b[0mcut_efficiency\u001b[0m\u001b[0;34m[\u001b[0m\u001b[0;34m'Signal %'\u001b[0m\u001b[0;34m]\u001b[0m \u001b[0;34m=\u001b[0m \u001b[0mnp\u001b[0m\u001b[0;34m.\u001b[0m\u001b[0mfull\u001b[0m\u001b[0;34m(\u001b[0m\u001b[0;34m(\u001b[0m\u001b[0mcut_counts\u001b[0m\u001b[0;34m[\u001b[0m\u001b[0;34m'mc_361106.Zee'\u001b[0m\u001b[0;34m]\u001b[0m\u001b[0;34m.\u001b[0m\u001b[0mshape\u001b[0m\u001b[0;34m[\u001b[0m\u001b[0;36m0\u001b[0m\u001b[0;34m]\u001b[0m\u001b[0;34m,\u001b[0m \u001b[0;34m)\u001b[0m\u001b[0;34m,\u001b[0m \u001b[0mnp\u001b[0m\u001b[0;34m.\u001b[0m\u001b[0mnan\u001b[0m\u001b[0;34m)\u001b[0m\u001b[0;34m\u001b[0m\u001b[0;34m\u001b[0m\u001b[0m\n",
      "\u001b[0;31mKeyError\u001b[0m: 'mc_345060.ggH125_ZZ4lep'"
     ]
    }
   ],
   "source": [
    "cut_efficiency = pd.DataFrame()\n",
    "\n",
    "# Merge Signal and BG counts\n",
    "cut_efficiency['Signal N'] = cut_counts['mc_345060.ggH125_ZZ4lep'] + cut_counts['mc_344235.VBFH125_ZZ4lep']\n",
    "cut_efficiency['Background N'] = cut_counts['mc_361106.Zee'] + cut_counts['mc_361107.Zmumu'] + cut_counts['mc_363490.llll']\n",
    "cut_efficiency['Signal %'] = np.full((cut_counts['mc_361106.Zee'].shape[0], ), np.nan)\n",
    "cut_efficiency['Background %'] = np.full((cut_counts['mc_361106.Zee'].shape[0], ), np.nan)\n",
    "\n",
    "# Produce fractional numbers\n",
    "for region_name in ['Signal', 'Background']:\n",
    "    region_pct = region_name + ' %'\n",
    "    region_n = region_name + ' N'\n",
    "    for filter_i, count in enumerate(cut_efficiency[region_n]):\n",
    "    \n",
    "        if filter_i == 0:\n",
    "            continue\n",
    "        else:\n",
    "            prev = cut_efficiency[region_n][filter_i-1]\n",
    "            curr = cut_efficiency[region_n][filter_i]\n",
    "            cut_efficiency[region_pct][filter_i] = abs(prev - curr) / prev * 100.\n",
    "\n",
    "print('events passing each cut and percent difference from prev filter')\n",
    "pp(cut_efficiency)"
   ]
  },
  {
   "cell_type": "markdown",
   "metadata": {},
   "source": [
    "## Merge Samples Into Background, Signal and Data Sets\n",
    "\n",
    "Initially, our labeled data sets are split across multiple .root files"
   ]
  },
  {
   "cell_type": "code",
   "execution_count": 8,
   "metadata": {},
   "outputs": [
    {
     "name": "stdout",
     "output_type": "stream",
     "text": [
      "sample name and its data\n",
      "merging data_A...\n",
      "merging data_B...\n",
      "merging data_C...\n",
      "merging data_D...\n",
      "merging mc_345060.ggH125_ZZ4lep...\n",
      "merging mc_344235.VBFH125_ZZ4lep...\n",
      "merging mc_363490.llll...\n",
      "merging mc_361106.Zee...\n",
      "merging mc_361107.Zmumu...\n"
     ]
    }
   ],
   "source": [
    "print('sample name and its data')\n",
    "# merge with bin, low and high parameters taken from first histogram\n",
    "def merge_series(label):\n",
    "    x = None\n",
    "    weights = None\n",
    "    for i, d in enumerate(files[label]):\n",
    "        sample = d[1]\n",
    "        print('merging {}...'.format(sample))\n",
    "        sample_x = dataframes[sample].m4l.to_numpy()\n",
    "        sample_weights = dataframes[sample].weight.to_numpy()\n",
    "        if i == 0: \n",
    "            x = sample_x\n",
    "            weights = sample_weights\n",
    "        else: \n",
    "            x = np.concatenate((x, sample_x), axis=None)\n",
    "            weights = np.concatenate((weights, sample_weights), axis=None)\n",
    "    return x, weights\n",
    "\n",
    "data_x, data_weights = merge_series(\"data\")\n",
    "higgs_x, higgs_weights = merge_series(\"higgs\")\n",
    "zz_x, zz_weights = merge_series(\"zz\")\n",
    "other_x, other_weights = merge_series(\"other\")\n",
    "\n",
    "dataframes = {} # free up some precious memory"
   ]
  },
  {
   "cell_type": "markdown",
   "metadata": {},
   "source": [
    "## Build Histograms\n",
    "\n",
    "Now that all our labeled sets are complete, we can start building histograms and finding the statistical uncertainties for each bin"
   ]
  },
  {
   "cell_type": "code",
   "execution_count": 9,
   "metadata": {},
   "outputs": [
    {
     "name": "stdout",
     "output_type": "stream",
     "text": [
      "higgs, zz, other stat errors:\n",
      "array([4.19508042e-04, 4.65344805e-04, 5.91516396e-04, 7.17826117e-04,\n",
      "       8.59166554e-04, 1.04263322e-03, 1.25057602e-03, 1.70276584e-03,\n",
      "       2.44967992e-03, 4.31658334e-03, 8.39328986e-03, 1.52242481e-02,\n",
      "       1.17349582e-02, 3.16069468e-03, 8.24732000e-04, 2.99308400e-04,\n",
      "       1.58501512e-04, 1.12088737e-04, 8.72485790e-05, 0.00000000e+00,\n",
      "       1.11569159e-04, 3.50069547e-05, 0.00000000e+00, 8.59106991e-06])\n",
      "array([0.05253473, 0.09827107, 0.17063333, 0.15124424, 0.07396423,\n",
      "       0.05027963, 0.04068123, 0.04124241, 0.04819093, 0.05285264,\n",
      "       0.05680135, 0.06426822, 0.06952599, 0.06066269, 0.07033923,\n",
      "       0.06154219, 0.06319769, 0.06103985, 0.06039286, 0.07300898,\n",
      "       0.05845178, 0.05834747, 0.0592755 , 0.06334463])\n",
      "array([0.        , 0.        , 0.        , 0.        , 0.        ,\n",
      "       0.        , 0.33755105, 0.        , 0.31950577, 0.23937764,\n",
      "       0.56087715, 0.4776887 , 0.52225365, 0.30680011, 0.        ,\n",
      "       0.3000041 , 0.35263997, 0.35991892, 0.27382114, 0.33754126,\n",
      "       0.38388419, 0.        , 0.        , 0.40396852])\n",
      "Histograms:\n",
      "bins:\n",
      "array([ 80.        ,  83.91304348,  87.82608696,  91.73913043,\n",
      "        95.65217391,  99.56521739, 103.47826087, 107.39130435,\n",
      "       111.30434783, 115.2173913 , 119.13043478, 123.04347826,\n",
      "       126.95652174, 130.86956522, 134.7826087 , 138.69565217,\n",
      "       142.60869565, 146.52173913, 150.43478261, 154.34782609,\n",
      "       158.26086957, 162.17391304, 166.08695652, 170.        ])\n",
      "data:\n",
      "array([ 1.,  6., 20.,  7.,  4.,  3.,  1.,  0.,  2.,  1.,  7.,  9.,  7.,\n",
      "        3.,  3.,  1.,  4.,  1.,  2.,  4.,  2.,  1.,  4.,  2.])\n",
      "higgs:\n",
      "array([3.18925883e-03, 3.94166585e-03, 5.99992575e-03, 8.92891382e-03,\n",
      "       1.29628194e-02, 1.90490143e-02, 2.78038849e-02, 5.07887420e-02,\n",
      "       1.04807599e-01, 3.20861770e-01, 1.22576077e+00, 3.96391701e+00,\n",
      "       2.36026763e+00, 1.72531299e-01, 1.16132736e-02, 1.64445780e-03,\n",
      "       4.78383593e-04, 2.41616015e-04, 9.70246946e-05, 0.00000000e+00,\n",
      "       2.23237295e-04, 4.01692318e-05, 0.00000000e+00, 1.47412721e-05])\n",
      "zz:\n",
      "array([ 1.5355394 ,  5.49976756, 16.146265  , 11.75589055,  3.00991788,\n",
      "        1.17240784,  0.92279011,  0.85995679,  1.26012727,  1.46757014,\n",
      "        1.74026569,  1.85082429,  2.02174242,  2.04158028,  1.85996699,\n",
      "        1.98678904,  2.08797203,  1.93174933,  1.85488205,  1.82709749,\n",
      "        1.72235161,  1.79064831,  1.81685405,  1.98506481])\n",
      "other:\n",
      "array([ 0.        ,  0.        ,  0.        ,  0.        ,  0.        ,\n",
      "        0.        ,  0.54656101,  0.        , -0.31950577,  0.23937764,\n",
      "        1.12122441,  0.90817528,  0.47117855,  0.30680011,  0.        ,\n",
      "        0.40150103,  0.56688221,  0.35991892,  0.36372097,  0.64162313,\n",
      "        0.38388419,  0.        ,  0.        ,  0.02616199])\n",
      "comparing data to mc hist\n",
      "array([ 1.53872866,  5.50370922, 16.15226492, 11.76481946,  3.0228807 ,\n",
      "        1.19145686,  1.497155  ,  0.91074554,  1.0454291 ,  2.02780954,\n",
      "        4.08725086,  6.72291658,  4.8531886 ,  2.52091168,  1.87158027,\n",
      "        2.38993453,  2.65533262,  2.29190986,  2.21870004,  2.46872062,\n",
      "        2.10645904,  1.79068848,  1.81685405,  2.01124154])\n",
      "array([ 1.,  6., 20.,  7.,  4.,  3.,  1.,  0.,  2.,  1.,  7.,  9.,  7.,\n",
      "        3.,  3.,  1.,  4.,  1.,  2.,  4.,  2.,  1.,  4.,  2.])\n"
     ]
    }
   ],
   "source": [
    "n_bins = 24\n",
    "bin_range = (80, 170)\n",
    "bin_edges = np.linspace(bin_range[0], bin_range[1], n_bins)\n",
    "center_offset = (bin_range[1] - bin_range[0]) / n_bins /2. \n",
    "bin_centers = np.linspace(bin_range[0]+center_offset, bin_range[1]-center_offset, n_bins)\n",
    "\n",
    "def extract_stat_uncertainty(x, x_weights, x_hist):\n",
    "    # get indices of which bins x belong to; np.digitize() returns bin id rather than bin index position\n",
    "    x_bin_ids = np.digitize(x, bins=x_hist[1]) \n",
    "    \n",
    "    weights_by_bin = [np.array([0.,]),]*len(x_hist[0]) # an empty bin has 0.0 stat uncertainty\n",
    "    \n",
    "    # first group weights by their corresponding x bins\n",
    "    for i, bin_id in enumerate(x_bin_ids):\n",
    "        if bin_id == 0 or bin_id == n_bins+1: # less than left edge or larger than right edge\n",
    "            continue\n",
    "        bin_index = bin_id - 1\n",
    "        corresponding_weight = x_weights[i]\n",
    "        if np.sum(weights_by_bin[bin_index]) == 0.:\n",
    "            weights_by_bin[bin_index] = np.array([corresponding_weight, ])\n",
    "        \n",
    "        else:\n",
    "            weights_by_bin[bin_index] = np.concatenate((weights_by_bin[bin_index], np.array([corresponding_weight, ])), axis=None)\n",
    "    \n",
    "    # now calculate statistical uncertainty per bin\n",
    "    return np.array([np.sqrt(np.sum(bin_weights**2)) for bin_weights in weights_by_bin])\n",
    "\n",
    "data_hist = np.histogram(data_x, bins=n_bins, range=bin_range, weights=data_weights)\n",
    "higgs_hist = np.histogram(higgs_x, bins=n_bins, range=bin_range, weights=higgs_weights)\n",
    "zz_hist = np.histogram(zz_x, bins=n_bins, range=bin_range, weights=zz_weights)\n",
    "other_hist = np.histogram(other_x, bins=n_bins, range=bin_range, weights=other_weights)\n",
    "\n",
    "higgs_hist_err = extract_stat_uncertainty(higgs_x, higgs_weights, higgs_hist)\n",
    "zz_hist_err = extract_stat_uncertainty(zz_x, zz_weights, zz_hist)\n",
    "other_hist_err = extract_stat_uncertainty(other_x, other_weights, other_hist)\n",
    "\n",
    "print('higgs, zz, other stat errors:')\n",
    "pp(higgs_hist_err)\n",
    "pp(zz_hist_err)\n",
    "pp(other_hist_err)\n",
    "\n",
    "print('Histograms:')\n",
    "print('bins:')\n",
    "pp(bin_edges)\n",
    "\n",
    "print('data:')\n",
    "pp(data_hist[0])\n",
    "\n",
    "print('higgs:')\n",
    "pp(higgs_hist[0])\n",
    "\n",
    "print('zz:')\n",
    "# Apply MC correction for ZZ due to missing gg->ZZ process\n",
    "zz_hist = zz_hist[0]*1.3, zz_hist[1]\n",
    "pp(zz_hist[0])\n",
    "\n",
    "print('other:')\n",
    "pp(other_hist[0])\n",
    "\n",
    "print('comparing data to mc hist')\n",
    "pp(other_hist[0] + zz_hist[0] + higgs_hist[0])\n",
    "pp(data_hist[0])"
   ]
  },
  {
   "cell_type": "markdown",
   "metadata": {},
   "source": [
    "## Plot the Invariant Mass Histogram\n",
    "\n",
    "See how the Monte Carlo generated counts compare to data"
   ]
  },
  {
   "cell_type": "code",
   "execution_count": 12,
   "metadata": {},
   "outputs": [
    {
     "name": "stdout",
     "output_type": "stream",
     "text": [
      "2020-10-12 07:02:15.134760\n",
      "total runtime: 174 s\n"
     ]
    },
    {
     "data": {
      "image/png": "[encoded data removed]",
      "text/plain": [
       "<Figure size 630x426.24 with 1 Axes>"
      ]
     },
     "metadata": {},
     "output_type": "display_data"
    }
   ],
   "source": [
    "def plot_stacked_hist(zz_factor, higgs_factor):\n",
    "    main_axes = plt.gca()\n",
    "    main_axes.errorbar(x=bin_centers, y=data_hist[0], yerr=np.sqrt(data_hist[0]), fmt='ko', label='data')\n",
    "\n",
    "    # https://matplotlib.org/3.3.0/api/_as_gen/matplotlib.pyplot.hist.html\n",
    "    # https://matplotlib.org/3.3.0/gallery/statistics/histogram_multihist.html\n",
    "\n",
    "    main_axes.hist(x=[other_x, zz_x, higgs_x, ], \n",
    "                   bins=n_bins, \n",
    "                   range=bin_range, \n",
    "                   weights=[other_weights, zz_weights*zz_factor, higgs_weights*higgs_factor], \n",
    "                   color=['mediumpurple', 'skyblue', 'red'], \n",
    "                   label=['other', 'zz', 'higgs'],\n",
    "                   histtype='bar',\n",
    "                   stacked=True\n",
    "                  )\n",
    "\n",
    "    plt.xlim(bin_range[0], bin_range[1])\n",
    "    plt.ylim(0, 35)\n",
    "    plt.xlabel(r'$m_{4l}, H \\to ZZ [GeV]$')\n",
    "    plt.ylabel('Events')\n",
    "    plt.xticks(np.arange(bin_range[0], bin_range[1]+10, 10))\n",
    "    plt.legend()\n",
    "\n",
    "plot_stacked_hist(1.3, 1.0)\n",
    "\n",
    "t2 = datetime.now()\n",
    "print(t2)\n",
    "print('total runtime: {} s'.format((t2-t1).seconds))"
   ]
  },
  {
   "cell_type": "markdown",
   "metadata": {},
   "source": [
    "## Prepare the pyhf Workspace\n",
    "\n",
    "Here we define the workspace which will eventually be used by pyhf to give the signal region normalization factor"
   ]
  },
  {
   "cell_type": "code",
   "execution_count": 13,
   "metadata": {},
   "outputs": [],
   "source": [
    "null = None\n",
    "pyhf_workspace = \\\n",
    "{\n",
    "    \"channels\": [\n",
    "        {\n",
    "            \"name\": \"Signal_region\",\n",
    "            \"samples\": [\n",
    "                {\n",
    "                    \"data\": zz_hist[0].tolist(),\n",
    "                    \"modifiers\": [\n",
    "                        {\n",
    "                            \"data\": zz_hist_err.tolist(),\n",
    "                            \"name\": \"staterror_Signal_region\",\n",
    "                            \"type\": \"staterror\"\n",
    "                        }\n",
    "                    ],\n",
    "                    \"name\": \"ZZ\"\n",
    "                },\n",
    "                {\n",
    "                    \"data\": higgs_hist[0].tolist(),\n",
    "                    \"modifiers\": [\n",
    "                        {\n",
    "                            \"data\": higgs_hist_err.tolist(),\n",
    "                            \"name\": \"staterror_Signal_region\",\n",
    "                            \"type\": \"staterror\"\n",
    "                        },\n",
    "                        {\n",
    "                            \"data\": null,\n",
    "                            \"name\": \"Signal_norm\",\n",
    "                            \"type\": \"normfactor\" # free parameter in fit\n",
    "                        }\n",
    "                    ],\n",
    "                    \"name\": \"Higgs\"\n",
    "                },\n",
    "                {\n",
    "                    \"data\": other_hist[0].tolist(),\n",
    "                    \"modifiers\": [\n",
    "                        {\n",
    "                            \"data\": other_hist_err.tolist(),\n",
    "                            \"name\": \"staterror_Signal_region\",\n",
    "                            \"type\": \"staterror\"\n",
    "                        }\n",
    "                    ],\n",
    "                    \"name\": \"Other\"\n",
    "                }\n",
    "            ]\n",
    "        }\n",
    "    ],\n",
    "    \"measurements\": [\n",
    "        {\n",
    "            \"config\": {\n",
    "                \"parameters\": [\n",
    "                    {\n",
    "                        \"bounds\": [\n",
    "                            [\n",
    "                                0,\n",
    "                                5\n",
    "                            ]\n",
    "                        ],\n",
    "                        \"inits\": [\n",
    "                            1\n",
    "                        ],\n",
    "                        \"name\": \"Signal_norm\"\n",
    "                    }\n",
    "                ],\n",
    "                \"poi\": \"Signal_norm\"\n",
    "            },\n",
    "            \"name\": \"minimal_example\"\n",
    "        }\n",
    "    ],\n",
    "    \"observations\": [\n",
    "        {\n",
    "            \"data\": data_hist[0].tolist(),\n",
    "            \"name\": \"Signal_region\"\n",
    "        }\n",
    "    ],\n",
    "    \"version\": \"1.0.0\"\n",
    "}\n",
    "\n",
    "with open(\"higgs4l_pyhf_workspace.json\", \"w\") as outfile:  \n",
    "    json.dump(pyhf_workspace, outfile, indent=4) "
   ]
  },
  {
   "cell_type": "markdown",
   "metadata": {},
   "source": [
    "## Run pyhf Fit\n",
    "\n",
    "After running the fit, extract the best fit normalization factor"
   ]
  },
  {
   "cell_type": "code",
   "execution_count": 14,
   "metadata": {},
   "outputs": [
    {
     "name": "stdout",
     "output_type": "stream",
     "text": [
      "------------------------------------------------------------------\n",
      "| FCN = -1.927                  |     Ncalls=638 (638 total)     |\n",
      "| EDM = 1.87e-06 (Goal: 0.0002) |            up = 1.0            |\n",
      "------------------------------------------------------------------\n",
      "|  Valid Min.   | Valid Param.  | Above EDM | Reached call limit |\n",
      "------------------------------------------------------------------\n",
      "|     True      |     True      |   False   |       False        |\n",
      "------------------------------------------------------------------\n",
      "| Hesse failed  |   Has cov.    | Accurate  | Pos. def. | Forced |\n",
      "------------------------------------------------------------------\n",
      "|     False     |     True      |   True    |   True    | False  |\n",
      "------------------------------------------------------------------\n",
      "staterror_Signal_region[bin_0] : 0.999370 +/- 0.034122\n",
      "staterror_Signal_region[bin_1] : 1.000157 +/- 0.017838\n",
      "staterror_Signal_region[bin_2] : 1.000427 +/- 0.010552\n",
      "staterror_Signal_region[bin_3] : 0.999213 +/- 0.012848\n",
      "staterror_Signal_region[bin_4] : 1.000576 +/- 0.024440\n",
      "staterror_Signal_region[bin_5] : 1.003172 +/- 0.042096\n",
      "staterror_Signal_region[bin_6] : 0.974508 +/- 0.220966\n",
      "staterror_Signal_region[bin_7] : 0.998045 +/- 0.045321\n",
      "staterror_Signal_region[bin_8] : 1.001838 +/- 0.046057\n",
      "staterror_Signal_region[bin_9] : 0.981362 +/- 0.120004\n",
      "staterror_Signal_region[bin_10]: 1.031893 +/- 0.130659\n",
      "staterror_Signal_region[bin_11]: 0.995048 +/- 0.071159\n",
      "staterror_Signal_region[bin_12]: 1.002083 +/- 0.105599\n",
      "staterror_Signal_region[bin_13]: 1.004937 +/- 0.121300\n",
      "staterror_Signal_region[bin_14]: 1.001572 +/- 0.037505\n",
      "staterror_Signal_region[bin_15]: 0.977523 +/- 0.127017\n",
      "staterror_Signal_region[bin_16]: 1.022775 +/- 0.130418\n",
      "staterror_Signal_region[bin_17]: 0.968022 +/- 0.157095\n",
      "staterror_Signal_region[bin_18]: 0.996618 +/- 0.124361\n",
      "staterror_Signal_region[bin_19]: 1.027751 +/- 0.134935\n",
      "staterror_Signal_region[bin_20]: 0.996611 +/- 0.178236\n",
      "staterror_Signal_region[bin_21]: 0.999162 +/- 0.032566\n",
      "staterror_Signal_region[bin_22]: 1.002311 +/- 0.032556\n",
      "staterror_Signal_region[bin_23]: 0.999571 +/- 0.195249\n",
      "Signal_norm                    : 1.828296 +/- 0.620054\n"
     ]
    }
   ],
   "source": [
    "import fit\n",
    "with open(\"higgs4l_pyhf_workspace.json\") as f:\n",
    "    ws = json.load(f)\n",
    "\n",
    "bestfit, uncertainty, labels = fit.fit(ws)\n",
    "\n",
    "for idx, label in enumerate(labels):\n",
    "    if label == 'Signal_norm':\n",
    "        bestfit_norm = bestfit[idx]\n",
    "    else:\n",
    "        continue"
   ]
  },
  {
   "cell_type": "markdown",
   "metadata": {},
   "source": [
    "## Compare the Original and Normalized Signal Region Histograms"
   ]
  },
  {
   "cell_type": "code",
   "execution_count": 15,
   "metadata": {},
   "outputs": [
    {
     "data": {
      "image/png": "[encoded data removed]",
      "text/plain": [
       "<Figure size 630x426.24 with 1 Axes>"
      ]
     },
     "metadata": {},
     "output_type": "display_data"
    }
   ],
   "source": [
    "plot_stacked_hist(zz_factor=1.3, higgs_factor=1.0)"
   ]
  },
  {
   "cell_type": "code",
   "execution_count": 16,
   "metadata": {},
   "outputs": [
    {
     "data": {
      "image/png": "[encoded data removed]",
      "text/plain": [
       "<Figure size 630x426.24 with 1 Axes>"
      ]
     },
     "metadata": {},
     "output_type": "display_data"
    }
   ],
   "source": [
    "plot_stacked_hist(zz_factor=1.3, higgs_factor=bestfit_norm)"
   ]
  },
  {
   "cell_type": "markdown",
   "metadata": {},
   "source": [
    "## What's Next?\n",
    "\n",
    "- Integrate further with Cabinetry framework by using Awkward Arrays instead of Pandas\n",
    "- Add Systematic Uncertainties (maybe dummy)\n",
    "- Simultaneously fit zz normalization factor"
   ]
  }
 ],
 "metadata": {
  "kernelspec": {
   "display_name": "Python 3",
   "language": "python",
   "name": "python3"
  },
  "language_info": {
   "codemirror_mode": {
    "name": "ipython",
    "version": 3
   },
   "file_extension": ".py",
   "mimetype": "text/x-python",
   "name": "python",
   "nbconvert_exporter": "python",
   "pygments_lexer": "ipython3",
   "version": "3.7.8"
  }
 },
 "nbformat": 4,
 "nbformat_minor": 4
}
